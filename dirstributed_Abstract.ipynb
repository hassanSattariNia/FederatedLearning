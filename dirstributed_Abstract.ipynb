{
  "nbformat": 4,
  "nbformat_minor": 0,
  "metadata": {
    "colab": {
      "provenance": []
    },
    "kernelspec": {
      "name": "python3",
      "display_name": "Python 3"
    },
    "language_info": {
      "name": "python"
    }
  },
  "cells": [
    {
      "cell_type": "markdown",
      "source": [
        "# **class Client**"
      ],
      "metadata": {
        "id": "ez727RVlqM_e"
      }
    },
    {
      "cell_type": "code",
      "execution_count": null,
      "metadata": {
        "id": "N5W4Ek62LXGt"
      },
      "outputs": [],
      "source": [
        "class Client:\n",
        "  def __init__(self, client_id, device, partition1_model, data_loader):\n",
        "    self.client_id = client_id\n",
        "    self.device = device\n",
        "    self.partition1_model = partition1_model\n",
        "    self.data_loader = data_loader"
      ]
    },
    {
      "cell_type": "markdown",
      "source": [
        "# **Data Loader Class**"
      ],
      "metadata": {
        "id": "DXhlcehSqQ4w"
      }
    },
    {
      "cell_type": "code",
      "source": [
        "import random\n",
        "\n",
        "\n",
        "class DataLoader:\n",
        "    def __init__(self, dataset, batch_size=32, shuffle=True, train_ratio=0.8, transform=None):\n",
        "        \"\"\"\n",
        "        Initialize the DataLoader with specific configurations.\n",
        "        \"\"\"\n",
        "        self.dataset = dataset\n",
        "        self.batch_size = batch_size\n",
        "        self.shuffle = shuffle\n",
        "        self.transform = transform\n",
        "        self.data_index = 0\n",
        "        self.mode = \"train\""
      ],
      "metadata": {
        "id": "X7YBTKH5oEMC"
      },
      "execution_count": null,
      "outputs": []
    },
    {
      "cell_type": "markdown",
      "source": [
        "# **define Partion class**"
      ],
      "metadata": {
        "id": "LUtNSmZ-v_E1"
      }
    },
    {
      "cell_type": "code",
      "source": [
        "class Partition:\n",
        "    def __init__(self, in_channels, out_channels, num_blocks, stride=1):\n",
        "        \"\"\"\n",
        "        Base class for a partition with configurable architecture.\n",
        "        \"\"\"\n",
        "        self.in_channels = in_channels\n",
        "        self.out_channels = out_channels\n",
        "        self.num_blocks = num_blocks\n",
        "        self.stride = stride\n",
        "        self.build_model()"
      ],
      "metadata": {
        "id": "7yDRNLrOLm_Z"
      },
      "execution_count": null,
      "outputs": []
    },
    {
      "cell_type": "code",
      "source": [
        "class Partition1(Partition):\n",
        "    def build_model(self):\n",
        "        # Define specific layers for Partition1\n",
        "        pass"
      ],
      "metadata": {
        "id": "Ta_ctSOPwRsi"
      },
      "execution_count": null,
      "outputs": []
    },
    {
      "cell_type": "markdown",
      "source": [
        "# **center Orchestrator**"
      ],
      "metadata": {
        "id": "GicodSAJ-x6P"
      }
    },
    {
      "cell_type": "code",
      "source": [],
      "metadata": {
        "id": "1eF250QU8hfI"
      },
      "execution_count": null,
      "outputs": []
    },
    {
      "cell_type": "markdown",
      "source": [],
      "metadata": {
        "id": "fsSuuDRQukbo"
      }
    }
  ]
}