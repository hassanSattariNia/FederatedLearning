{
  "nbformat": 4,
  "nbformat_minor": 0,
  "metadata": {
    "colab": {
      "provenance": []
    },
    "kernelspec": {
      "name": "python3",
      "display_name": "Python 3"
    },
    "language_info": {
      "name": "python"
    }
  },
  "cells": [
    {
      "cell_type": "markdown",
      "source": [
        "# **class Client**"
      ],
      "metadata": {
        "id": "ez727RVlqM_e"
      }
    },
    {
      "cell_type": "code",
      "execution_count": 2,
      "metadata": {
        "id": "N5W4Ek62LXGt"
      },
      "outputs": [],
      "source": [
        "import torch\n",
        "import threading\n",
        "import queue\n",
        "class Client:\n",
        "  def __init__(self, client_id,partition1, partition, input_queue=None, output_queue=None, data_loader=None):\n",
        "        \"\"\"\n",
        "        client_id: شناسه کلاینت\n",
        "        partition: پارتیشن مدل که این کلاینت اجرا می‌کند\n",
        "        input_queue: صف ورودی برای دریافت داده‌ها\n",
        "        output_queue: صف خروجی برای ارسال داده‌ها\n",
        "        data_loader: کلاس DataLoader برای کلاینت اول\n",
        "        \"\"\"\n",
        "        self.client_id = client_id\n",
        "        self.partition = partition\n",
        "        self.partition1 = partition1\n",
        "        self.input_queue = input_queue\n",
        "        self.output_queue = output_queue\n",
        "        self.data_loader = data_loader\n",
        "\n",
        "\n",
        "  def process_partition1(self , data ):\n",
        "    data_tensor = torch.tensor(data)\n",
        "    return self.partition1(data_tensor)\n",
        "\n",
        "\n",
        "  def process_partition(self , data ):\n",
        "    data_tensor = torch.tensor(data)\n",
        "    return self.partition(data_tensor)\n",
        "\n",
        "  def run(self):\n",
        "    while True:\n",
        "      input , labels = self.data_loader.get_next_batch()\n",
        "      output1 = self.process_partition1(inputs)\n",
        "\n",
        "      if self.input_queue:\n",
        "        data = self.input_queue.get()\n",
        "        inputs = torch.tensor(data[\"output\"])\n",
        "        labels = data[\"labels\"]\n",
        "        labels = self.process_partition1(inputs)\n",
        "      output2 = self.process_partition(output1)"
      ]
    },
    {
      "cell_type": "markdown",
      "source": [
        "# **Data Loader Class**"
      ],
      "metadata": {
        "id": "DXhlcehSqQ4w"
      }
    },
    {
      "cell_type": "code",
      "source": [
        "import random\n",
        "import torchvision\n",
        "import torchvision.transforms as transforms\n",
        "from torch.utils.data import DataLoader as TorchDataLoader\n",
        "\n",
        "class DataLoader:\n",
        "    def __init__(self, dataset, batch_size=32, shuffle=True, train_ratio=0.8):\n",
        "        \"\"\"\n",
        "        Initialize the DataLoader with specific configurations.\n",
        "        \"\"\"\n",
        "        self.dataset = dataset\n",
        "        self.batch_size = batch_size\n",
        "        self.shuffle = shuffle\n",
        "        self.train_ratio = train_ratio\n",
        "\n",
        "        self.data_index = 0\n",
        "        self.mode = \"train\"\n",
        "\n",
        "        # set transform\n",
        "        self.transform = transforms.Compose([\n",
        "            transforms.RandomHorizontalFlip(),\n",
        "            transforms.ToTensor(),\n",
        "            transforms.Normalize((0.5, 0.5, 0.5), (0.5, 0.5, 0.5))])\n",
        "\n",
        "        self.dataset_train , self.dataset_test = self.loadDataSet()\n",
        "\n",
        "        # create loader for test and train\n",
        "        self.train_loader = TorchDataLoader(self.dataset_train , batch_size=self.batch_size , shuffle=self.shuffle)\n",
        "        self.test_loader = TorchDataLoader(self.dataset_test , batch_size=self.batch_size , shuffle=False)\n",
        "        self.mode = \"train\"\n",
        "\n",
        "    def set_mode(self, mode):\n",
        "        \"\"\"\n",
        "        train and test mod\n",
        "        \"\"\"\n",
        "        if mode not in [\"train\", \"test\"]:\n",
        "            raise ValueError(\"Mode must be either 'train' or 'test'\")\n",
        "        self.mode = mode\n",
        "\n",
        "    def loadDataSet(self):\n",
        "      trainset = torchvision.datasets.CIFAR10(root='./data',train=True ,download = True ,transform= self.transform)\n",
        "      testset = torchvision.datasets.CIFAR10(root='./data', train=False ,download = True , transform=self.transform )\n",
        "      return trainset , testset\n",
        "\n",
        "\n",
        "    def getLoader(self):\n",
        "      if self.mode == \"train\":\n",
        "        return self.train_loader\n",
        "      else:\n",
        "        return self.test_loader\n",
        "\n",
        "    def get_next_batch(self):\n",
        "      loader = self.getLoader()\n",
        "      return next(iter(loader))"
      ],
      "metadata": {
        "id": "X7YBTKH5oEMC"
      },
      "execution_count": 13,
      "outputs": []
    },
    {
      "cell_type": "markdown",
      "source": [
        "# **define Partion class**"
      ],
      "metadata": {
        "id": "LUtNSmZ-v_E1"
      }
    },
    {
      "cell_type": "code",
      "source": [
        "class Partition:\n",
        "    def __init__(self, in_channels, out_channels, num_blocks, stride=1):\n",
        "        \"\"\"\n",
        "        Base class for a partition with configurable architecture.\n",
        "        \"\"\"\n",
        "        self.in_channels = in_channels\n",
        "        self.out_channels = out_channels\n",
        "        self.num_blocks = num_blocks\n",
        "        self.stride = stride\n",
        "        self.build_model()"
      ],
      "metadata": {
        "id": "7yDRNLrOLm_Z"
      },
      "execution_count": 4,
      "outputs": []
    },
    {
      "cell_type": "code",
      "source": [
        "class Partition1(Partition):\n",
        "    def build_model(self):\n",
        "        # Define specific layers for Partition1\n",
        "        pass"
      ],
      "metadata": {
        "id": "Ta_ctSOPwRsi"
      },
      "execution_count": 5,
      "outputs": []
    },
    {
      "cell_type": "markdown",
      "source": [
        "# **Message Class**"
      ],
      "metadata": {
        "id": "GicodSAJ-x6P"
      }
    },
    {
      "cell_type": "code",
      "source": [
        "class Message:\n",
        "  def __init__(self , msg_type , stage, source , destination,data_id,data):\n",
        "    self.msg_type = msg_type\n",
        "    self.stage = stage\n",
        "    self.source = source\n",
        "    self.destination = destination\n",
        "    self.data_id = data_id\n",
        "    self.data = data"
      ],
      "metadata": {
        "id": "1eF250QU8hfI"
      },
      "execution_count": 6,
      "outputs": []
    },
    {
      "cell_type": "markdown",
      "source": [
        "# **test DataLoader Class**"
      ],
      "metadata": {
        "id": "e3tkihscKSue"
      }
    },
    {
      "cell_type": "code",
      "source": [
        "# ایجاد یک شیء از DataLoader\n",
        "data_loader = DataLoader(dataset='CIFAR10',batch_size=64, shuffle=True)\n",
        "\n",
        "# تنظیم حالت به آموزش\n",
        "data_loader.set_mode(\"train\")\n",
        "\n",
        "# دریافت batch بعدی از داده‌های آموزشی\n",
        "inputs, labels = data_loader.get_next_batch()\n",
        "print(f\"Batch shape: {inputs.shape}, Labels shape: {labels.shape}\")\n",
        "\n",
        "# تغییر حالت به تست\n",
        "data_loader.set_mode(\"test\")\n",
        "inputs, labels = data_loader.get_next_batch()\n",
        "print(f\"Batch shape: {inputs.shape}, Labels shape: {labels.shape}\")\n"
      ],
      "metadata": {
        "colab": {
          "base_uri": "https://localhost:8080/"
        },
        "id": "sfJW01AKKSDp",
        "outputId": "b1ce58b9-f9a9-40e9-dce4-e245e5be6eec"
      },
      "execution_count": 16,
      "outputs": [
        {
          "output_type": "stream",
          "name": "stdout",
          "text": [
            "Files already downloaded and verified\n",
            "Files already downloaded and verified\n",
            "Batch shape: torch.Size([64, 3, 32, 32]), Labels shape: torch.Size([64])\n",
            "Batch shape: torch.Size([64, 3, 32, 32]), Labels shape: torch.Size([64])\n"
          ]
        }
      ]
    },
    {
      "cell_type": "markdown",
      "source": [],
      "metadata": {
        "id": "fsSuuDRQukbo"
      }
    }
  ]
}