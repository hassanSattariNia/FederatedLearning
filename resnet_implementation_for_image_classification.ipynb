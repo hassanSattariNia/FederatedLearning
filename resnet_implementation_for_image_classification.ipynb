{
  "cells": [
    {
      "cell_type": "markdown",
      "metadata": {
        "id": "view-in-github",
        "colab_type": "text"
      },
      "source": [
        "<a href=\"https://colab.research.google.com/github/hassanSattariNia/FederatedLearning/blob/main/resnet_implementation_for_image_classification.ipynb\" target=\"_parent\"><img src=\"https://colab.research.google.com/assets/colab-badge.svg\" alt=\"Open In Colab\"/></a>"
      ]
    },
    {
      "cell_type": "markdown",
      "metadata": {
        "id": "WGBBal81CPdF"
      },
      "source": [
        "# CIFAR-100 Image Classification using ResNet (Residual Network) in PyTorch\n",
        "\n",
        "ResNet, short for Residual Network is a specific type of neural network that was introduced in 2015 by Kaiming He, Xiangyu Zhang, Shaoqing Ren and Jian Sun in their paper [“Deep Residual Learning for Image Recognition”](https://arxiv.org/pdf/1512.03385.pdf). <br/>\n",
        "ResNet was an innovative approach over VGG-like models:\n",
        "* Won 1st place in the ILSVRC 2015 classification competition with a top-5 error rate of 3.57% (An ensemble model)\n",
        "* Won the 1st place in ILSVRC and COCO 2015 competition in ImageNet Detection, ImageNet localization, Coco detection and Coco segmentation.\n",
        "* Replacing VGG-16 layers in Faster R-CNN with ResNet-101. They observed relative improvements of 28%\n",
        "* Efficiently trained networks with 100 layers and 1000 layers also.\n",
        "\n",
        "We get over 70% accuracy without using any pre-trained model in 100 epochs and it proves the power of ResNet.\n",
        "\n",
        "In this notebook, I will be implementing less complex version of ResNets to be able to get results in reasonable amount of time. Even though the implementation is done through CIFAR-100 dataset, it can be used with any image classification dataset. <br/>Note: Do not forget to change transform values if you use different the dataset. You can find the best parameters from SOTA implementations for well-known datasets.\n",
        "\n",
        "#### References which I got implementations and explanations.\n",
        "- [weiaicunzai/pytorch-cifar100](https://github.com/weiaicunzai/pytorch-cifar100/blob/master/models/resnet.py)\n",
        "- [papers-with-code](https://paperswithcode.com/sota/image-classification-on-cifar-100)\n",
        "- [pytorch-basic-cifar10](https://pytorch.org/tutorials/beginner/blitz/cifar10_tutorial.html)\n",
        "- [more-implementation-with-explanations](https://blog.jovian.ai/image-classification-of-cifar100-dataset-using-pytorch-8b7145242df1)\n",
        "- [more-reading](https://www.researchgate.net/publication/355698607_MEST_Accurate_and_Fast_Memory-Economic_Sparse_Training_Framework_on_the_Edge)\n",
        "- [visualization](https://jovian.ai/damian-c036/cifar100-final-project/v/5?utm_source=embed)\n",
        "\n",
        "\n",
        "So we are good to go.\n"
      ]
    },
    {
      "cell_type": "markdown",
      "metadata": {
        "id": "UJqCIQmZCPdJ"
      },
      "source": [
        "# Necessary Libraries"
      ]
    },
    {
      "cell_type": "code",
      "execution_count": 1,
      "metadata": {
        "id": "lV89rAqdCPdK"
      },
      "outputs": [],
      "source": [
        "import numpy as np\n",
        "import matplotlib.pyplot as plt\n",
        "import pandas as pd\n",
        "\n",
        "import torch\n",
        "import torchvision\n",
        "import torch.nn as nn\n",
        "import torch.nn.functional as F\n",
        "from torchvision.datasets import CIFAR100\n",
        "from torchvision.utils import make_grid\n",
        "from torch.utils.data.dataloader import DataLoader\n",
        "from torch.utils.data import random_split, ConcatDataset\n",
        "import torchvision.transforms as tt\n"
      ]
    },
    {
      "cell_type": "markdown",
      "metadata": {
        "id": "2OsjGLbqCPdL"
      },
      "source": [
        "____\n",
        "#### Before we load the data, it is required to first prepare the transformations to be applied. It is an important step to prepare the data for training to avoid overfitting problem.\n",
        "____"
      ]
    },
    {
      "cell_type": "code",
      "execution_count": 2,
      "metadata": {
        "id": "a3afGU2QCPdM"
      },
      "outputs": [],
      "source": [
        "stats = ((0.5074,0.4867,0.4411),(0.2011,0.1987,0.2025))\n",
        "train_transform = tt.Compose([\n",
        "    tt.RandomHorizontalFlip(),\n",
        "    tt.RandomCrop(32, padding=4, padding_mode=\"reflect\"),\n",
        "    tt.ToTensor(),\n",
        "    tt.Normalize(*stats)\n",
        "])\n",
        "\n",
        "test_transform = tt.Compose([\n",
        "    tt.ToTensor(),\n",
        "    tt.Normalize(*stats)\n",
        "])"
      ]
    },
    {
      "cell_type": "markdown",
      "metadata": {
        "id": "stenbx9RCPdM"
      },
      "source": [
        "___\n",
        "RandomHorizontalFlip randomly flips an image with a probability of 50%, and RandomCrop pads an image by 4 pixel on each side then randomly crops 32x32 from the image after padding. We add such transformations to add noise to the data and prevent our model from overfitting. There are also other transformations you can use such as ColorJitter and RandomVerticalFlip etc. but I found these to be sufficient for our purposes. <br />\n",
        "\n",
        "ToTensor simply converts the image to a Tensor. Since its a coloured image, it would have 3 channels (R,G,B) so the Tensor would be of size 3x32x32. <br/>\n",
        "\n",
        "Normalize takes the mean and standard deviation for each channel of the entire dataset as input. Normalizing scales our data to a similar range of values to make sure that our gradients don’t go out of control.\n",
        "Now we just prepare our train and test dataset and then we can explore the data.\n",
        "___"
      ]
    },
    {
      "cell_type": "markdown",
      "metadata": {
        "id": "Dfr8Uq3WCPdN"
      },
      "source": [
        "# Loading Data"
      ]
    },
    {
      "cell_type": "code",
      "execution_count": 3,
      "metadata": {
        "colab": {
          "base_uri": "https://localhost:8080/"
        },
        "id": "Kfg3sMQJCPdN",
        "outputId": "7bae0ffe-29e5-4851-a6bd-db97e7db822b"
      },
      "outputs": [
        {
          "output_type": "stream",
          "name": "stdout",
          "text": [
            "Downloading https://www.cs.toronto.edu/~kriz/cifar-100-python.tar.gz to ./data/cifar-100-python.tar.gz\n"
          ]
        },
        {
          "output_type": "stream",
          "name": "stderr",
          "text": [
            "100%|██████████| 169M/169M [00:03<00:00, 47.4MB/s]\n"
          ]
        },
        {
          "output_type": "stream",
          "name": "stdout",
          "text": [
            "Extracting ./data/cifar-100-python.tar.gz to ./data\n"
          ]
        }
      ],
      "source": [
        "train_data = CIFAR100(download=True, root=\"./data\", transform=train_transform)\n",
        "test_data = CIFAR100(root=\"./data\", train=False, transform=test_transform)"
      ]
    },
    {
      "cell_type": "markdown",
      "metadata": {
        "id": "rgEZ0Qi-CPdO"
      },
      "source": [
        "_____"
      ]
    },
    {
      "cell_type": "code",
      "execution_count": 4,
      "metadata": {
        "colab": {
          "base_uri": "https://localhost:8080/"
        },
        "id": "wY6iKvx5CPdP",
        "outputId": "e9eb049e-93d6-4213-a80c-20d39cd4a3ac"
      },
      "outputs": [
        {
          "output_type": "stream",
          "name": "stdout",
          "text": [
            "Image shape:  torch.Size([3, 32, 32])\n",
            "Image tensor:  tensor([[[ 2.4495,  2.4495,  2.4300,  ...,  2.2740,  1.7670,  1.2405],\n",
            "         [ 2.4495,  2.4495,  2.4300,  ...,  1.8450,  1.6110,  1.2210],\n",
            "         [ 2.4495,  2.4495,  2.4300,  ...,  0.9870,  0.5385,  0.9090],\n",
            "         ...,\n",
            "         [-0.8656, -0.5536, -0.8071,  ..., -0.3196, -1.0411, -2.1526],\n",
            "         [-0.5926, -0.0660, -0.1831,  ..., -0.2806, -0.7486, -1.9381],\n",
            "         [ 0.0900,  0.2070,  0.2460,  ..., -0.1050, -0.3976, -1.6846]],\n",
            "\n",
            "        [[ 2.5833,  2.5833,  2.5636,  ...,  2.5043,  2.1294,  1.6557],\n",
            "         [ 2.5833,  2.5833,  2.5636,  ...,  1.9715,  1.8136,  1.5767],\n",
            "         [ 2.5833,  2.5833,  2.5636,  ...,  0.7281,  0.2150,  0.8268],\n",
            "         ...,\n",
            "         [-0.1403,  0.1952, -0.0416,  ...,  0.3136, -0.9100, -2.2718],\n",
            "         [ 0.2150,  0.7084,  0.6097,  ...,  0.1952, -0.6534, -2.0547],\n",
            "         [ 0.9649,  1.0833,  1.1426,  ...,  0.0176, -0.4166, -1.8179]],\n",
            "\n",
            "        [[ 2.7600,  2.7600,  2.7406,  ...,  2.7019,  2.1209,  1.4044],\n",
            "         [ 2.7600,  2.7600,  2.7406,  ...,  1.9854,  1.5593,  1.1526],\n",
            "         [ 2.7600,  2.7600,  2.7406,  ...,  0.4167, -0.2611,  0.3199],\n",
            "         ...,\n",
            "         [-1.3455, -1.0938, -1.4230,  ..., -1.2681, -1.7135, -2.1008],\n",
            "         [-1.3843, -0.8033, -1.0551,  ..., -1.3068, -1.6748, -2.1395],\n",
            "         [-1.1325, -1.0163, -1.0744,  ..., -0.8420, -1.1906, -2.1008]]])\n",
            "Label:  19\n"
          ]
        }
      ],
      "source": [
        "for image, label in train_data:\n",
        "    print(\"Image shape: \",image.shape)\n",
        "    print(\"Image tensor: \", image)\n",
        "    print(\"Label: \", label)\n",
        "    break"
      ]
    },
    {
      "cell_type": "code",
      "execution_count": 5,
      "metadata": {
        "id": "al7oqBEPCPdQ",
        "colab": {
          "base_uri": "https://localhost:8080/"
        },
        "outputId": "c30666ea-bedf-4157-f24e-d21d5f29c982"
      },
      "outputs": [
        {
          "output_type": "execute_result",
          "data": {
            "text/plain": [
              "{'cattle': 500,\n",
              " 'dinosaur': 500,\n",
              " 'apple': 500,\n",
              " 'boy': 500,\n",
              " 'aquarium_fish': 500,\n",
              " 'telephone': 500,\n",
              " 'train': 500,\n",
              " 'cup': 500,\n",
              " 'cloud': 500,\n",
              " 'elephant': 500,\n",
              " 'keyboard': 500,\n",
              " 'willow_tree': 500,\n",
              " 'sunflower': 500,\n",
              " 'castle': 500,\n",
              " 'sea': 500,\n",
              " 'bicycle': 500,\n",
              " 'wolf': 500,\n",
              " 'squirrel': 500,\n",
              " 'shrew': 500,\n",
              " 'pine_tree': 500,\n",
              " 'rose': 500,\n",
              " 'television': 500,\n",
              " 'table': 500,\n",
              " 'possum': 500,\n",
              " 'oak_tree': 500,\n",
              " 'leopard': 500,\n",
              " 'maple_tree': 500,\n",
              " 'rabbit': 500,\n",
              " 'chimpanzee': 500,\n",
              " 'clock': 500,\n",
              " 'streetcar': 500,\n",
              " 'cockroach': 500,\n",
              " 'snake': 500,\n",
              " 'lobster': 500,\n",
              " 'mountain': 500,\n",
              " 'palm_tree': 500,\n",
              " 'skyscraper': 500,\n",
              " 'tractor': 500,\n",
              " 'shark': 500,\n",
              " 'butterfly': 500,\n",
              " 'bottle': 500,\n",
              " 'bee': 500,\n",
              " 'chair': 500,\n",
              " 'woman': 500,\n",
              " 'hamster': 500,\n",
              " 'otter': 500,\n",
              " 'seal': 500,\n",
              " 'lion': 500,\n",
              " 'mushroom': 500,\n",
              " 'girl': 500,\n",
              " 'sweet_pepper': 500,\n",
              " 'forest': 500,\n",
              " 'crocodile': 500,\n",
              " 'orange': 500,\n",
              " 'tulip': 500,\n",
              " 'mouse': 500,\n",
              " 'camel': 500,\n",
              " 'caterpillar': 500,\n",
              " 'man': 500,\n",
              " 'skunk': 500,\n",
              " 'kangaroo': 500,\n",
              " 'raccoon': 500,\n",
              " 'snail': 500,\n",
              " 'rocket': 500,\n",
              " 'whale': 500,\n",
              " 'worm': 500,\n",
              " 'turtle': 500,\n",
              " 'beaver': 500,\n",
              " 'plate': 500,\n",
              " 'wardrobe': 500,\n",
              " 'road': 500,\n",
              " 'fox': 500,\n",
              " 'flatfish': 500,\n",
              " 'tiger': 500,\n",
              " 'ray': 500,\n",
              " 'dolphin': 500,\n",
              " 'poppy': 500,\n",
              " 'porcupine': 500,\n",
              " 'lamp': 500,\n",
              " 'crab': 500,\n",
              " 'motorcycle': 500,\n",
              " 'spider': 500,\n",
              " 'tank': 500,\n",
              " 'orchid': 500,\n",
              " 'lizard': 500,\n",
              " 'beetle': 500,\n",
              " 'bridge': 500,\n",
              " 'baby': 500,\n",
              " 'lawn_mower': 500,\n",
              " 'house': 500,\n",
              " 'bus': 500,\n",
              " 'couch': 500,\n",
              " 'bowl': 500,\n",
              " 'pear': 500,\n",
              " 'bed': 500,\n",
              " 'plain': 500,\n",
              " 'trout': 500,\n",
              " 'bear': 500,\n",
              " 'pickup_truck': 500,\n",
              " 'can': 500}"
            ]
          },
          "metadata": {},
          "execution_count": 5
        }
      ],
      "source": [
        "train_classes_items = dict()\n",
        "\n",
        "for train_item in train_data:\n",
        "    label = train_data.classes[train_item[1]]\n",
        "    if label not in train_classes_items:\n",
        "        train_classes_items[label] = 1\n",
        "    else:\n",
        "        train_classes_items[label] += 1\n",
        "\n",
        "train_classes_items"
      ]
    },
    {
      "cell_type": "code",
      "execution_count": 6,
      "metadata": {
        "id": "M3iDpg-hCPdQ",
        "colab": {
          "base_uri": "https://localhost:8080/"
        },
        "outputId": "9629aae9-e588-4e93-bc3f-1b8bc1b5b446"
      },
      "outputs": [
        {
          "output_type": "execute_result",
          "data": {
            "text/plain": [
              "{'mountain': 100,\n",
              " 'forest': 100,\n",
              " 'seal': 100,\n",
              " 'mushroom': 100,\n",
              " 'sea': 100,\n",
              " 'tulip': 100,\n",
              " 'camel': 100,\n",
              " 'butterfly': 100,\n",
              " 'cloud': 100,\n",
              " 'apple': 100,\n",
              " 'skunk': 100,\n",
              " 'streetcar': 100,\n",
              " 'rocket': 100,\n",
              " 'lamp': 100,\n",
              " 'lion': 100,\n",
              " 'wolf': 100,\n",
              " 'rose': 100,\n",
              " 'orange': 100,\n",
              " 'dinosaur': 100,\n",
              " 'chimpanzee': 100,\n",
              " 'can': 100,\n",
              " 'keyboard': 100,\n",
              " 'bicycle': 100,\n",
              " 'chair': 100,\n",
              " 'plate': 100,\n",
              " 'lawn_mower': 100,\n",
              " 'turtle': 100,\n",
              " 'palm_tree': 100,\n",
              " 'shark': 100,\n",
              " 'pickup_truck': 100,\n",
              " 'boy': 100,\n",
              " 'couch': 100,\n",
              " 'house': 100,\n",
              " 'porcupine': 100,\n",
              " 'cockroach': 100,\n",
              " 'clock': 100,\n",
              " 'castle': 100,\n",
              " 'beaver': 100,\n",
              " 'bee': 100,\n",
              " 'bottle': 100,\n",
              " 'pear': 100,\n",
              " 'baby': 100,\n",
              " 'flatfish': 100,\n",
              " 'oak_tree': 100,\n",
              " 'leopard': 100,\n",
              " 'snail': 100,\n",
              " 'crocodile': 100,\n",
              " 'rabbit': 100,\n",
              " 'beetle': 100,\n",
              " 'girl': 100,\n",
              " 'sunflower': 100,\n",
              " 'raccoon': 100,\n",
              " 'train': 100,\n",
              " 'ray': 100,\n",
              " 'trout': 100,\n",
              " 'bowl': 100,\n",
              " 'snake': 100,\n",
              " 'orchid': 100,\n",
              " 'tractor': 100,\n",
              " 'caterpillar': 100,\n",
              " 'bus': 100,\n",
              " 'mouse': 100,\n",
              " 'crab': 100,\n",
              " 'sweet_pepper': 100,\n",
              " 'maple_tree': 100,\n",
              " 'whale': 100,\n",
              " 'skyscraper': 100,\n",
              " 'pine_tree': 100,\n",
              " 'tank': 100,\n",
              " 'cattle': 100,\n",
              " 'man': 100,\n",
              " 'aquarium_fish': 100,\n",
              " 'shrew': 100,\n",
              " 'plain': 100,\n",
              " 'possum': 100,\n",
              " 'lobster': 100,\n",
              " 'hamster': 100,\n",
              " 'television': 100,\n",
              " 'dolphin': 100,\n",
              " 'worm': 100,\n",
              " 'squirrel': 100,\n",
              " 'cup': 100,\n",
              " 'woman': 100,\n",
              " 'bridge': 100,\n",
              " 'wardrobe': 100,\n",
              " 'road': 100,\n",
              " 'lizard': 100,\n",
              " 'elephant': 100,\n",
              " 'spider': 100,\n",
              " 'fox': 100,\n",
              " 'otter': 100,\n",
              " 'poppy': 100,\n",
              " 'willow_tree': 100,\n",
              " 'table': 100,\n",
              " 'kangaroo': 100,\n",
              " 'telephone': 100,\n",
              " 'bed': 100,\n",
              " 'motorcycle': 100,\n",
              " 'bear': 100,\n",
              " 'tiger': 100}"
            ]
          },
          "metadata": {},
          "execution_count": 6
        }
      ],
      "source": [
        "test_classes_items = dict()\n",
        "for test_item in test_data:\n",
        "    label = test_data.classes[test_item[1]]\n",
        "    if label not in test_classes_items:\n",
        "        test_classes_items[label] = 1\n",
        "    else:\n",
        "        test_classes_items[label] += 1\n",
        "\n",
        "test_classes_items"
      ]
    },
    {
      "cell_type": "markdown",
      "metadata": {
        "id": "E2AM5IzXCPdQ"
      },
      "source": [
        "# BATCHSIZE & DataLoader"
      ]
    },
    {
      "cell_type": "code",
      "execution_count": 7,
      "metadata": {
        "collapsed": true,
        "id": "LnjimzT4CPdQ",
        "colab": {
          "base_uri": "https://localhost:8080/"
        },
        "outputId": "47c7a90d-da3b-4485-95dd-4ffe32804435"
      },
      "outputs": [
        {
          "output_type": "stream",
          "name": "stderr",
          "text": [
            "/usr/local/lib/python3.10/dist-packages/torch/utils/data/dataloader.py:617: UserWarning: This DataLoader will create 4 worker processes in total. Our suggested max number of worker in current system is 2, which is smaller than what this DataLoader is going to create. Please be aware that excessive worker creation might get DataLoader running slow or even freeze, lower the worker number to avoid potential slowness/freeze if necessary.\n",
            "  warnings.warn(\n"
          ]
        }
      ],
      "source": [
        "BATCH_SIZE = 128\n",
        "train_dl = DataLoader(train_data, BATCH_SIZE, num_workers=4, pin_memory=True, shuffle=True)\n",
        "test_dl = DataLoader(test_data, BATCH_SIZE, num_workers=4, pin_memory=True)"
      ]
    },
    {
      "cell_type": "markdown",
      "metadata": {
        "id": "PVlIOeiBCPdR"
      },
      "source": [
        "# Visualization"
      ]
    },
    {
      "cell_type": "code",
      "execution_count": 9,
      "metadata": {
        "id": "HurRXGZ8CPdR",
        "colab": {
          "base_uri": "https://localhost:8080/",
          "height": 328
        },
        "outputId": "d171cc35-58ea-4b79-a15a-4ee6a8edb7a2"
      },
      "outputs": [
        {
          "output_type": "stream",
          "name": "stderr",
          "text": [
            "/usr/local/lib/python3.10/dist-packages/torch/utils/data/dataloader.py:617: UserWarning: This DataLoader will create 4 worker processes in total. Our suggested max number of worker in current system is 2, which is smaller than what this DataLoader is going to create. Please be aware that excessive worker creation might get DataLoader running slow or even freeze, lower the worker number to avoid potential slowness/freeze if necessary.\n",
            "  warnings.warn(\n",
            "WARNING:matplotlib.image:Clipping input data to the valid range for imshow with RGB data ([0..1] for floats or [0..255] for integers).\n"
          ]
        },
        {
          "output_type": "display_data",
          "data": {
            "text/plain": [
              "<Figure size 2000x2000 with 1 Axes>"
            ],
            "image/png": "[encoded data removed]"
          },
          "metadata": {}
        },
        {
          "output_type": "stream",
          "name": "stdout",
          "text": [
            "bed                 rocket              lizard              oak_tree            plate               couch               rabbit              palm_tree           \n"
          ]
        }
      ],
      "source": [
        "# for 8 images\n",
        "train_8_samples = DataLoader(train_data, 8, num_workers=4, pin_memory=True, shuffle=True)\n",
        "\n",
        "def imshow(img):\n",
        "    img = img / 2 + 0.5     # unnormalize\n",
        "    npimg = img.numpy()\n",
        "    plt.figure(figsize = (20,20))\n",
        "    plt.imshow(np.transpose(npimg, (1, 2, 0)))\n",
        "    plt.show()\n",
        "\n",
        "dataiter = iter(train_8_samples)\n",
        "images, labels = next(dataiter)\n",
        "\n",
        "# print images\n",
        "imshow(torchvision.utils.make_grid(images))\n",
        "print(''.join(f'{train_data.classes[labels[j]]:20s}' for j in range(8)))"
      ]
    },
    {
      "cell_type": "markdown",
      "metadata": {
        "id": "G-pt6J7pCPdR"
      },
      "source": [
        "# Get CUDA ready"
      ]
    },
    {
      "cell_type": "code",
      "execution_count": 10,
      "metadata": {
        "id": "3BHvpoWyCPdR"
      },
      "outputs": [],
      "source": [
        "def get_device():\n",
        "    if torch.cuda.is_available():\n",
        "        return torch.device(\"cuda\")\n",
        "    return torch.device(\"cpu\")\n",
        "\n",
        "def to_device(data,device):\n",
        "    if isinstance(data,(list,tuple)):\n",
        "        return [to_device(x,device) for x in data]\n",
        "    return data.to(device,non_blocking=True)\n",
        "\n",
        "\n",
        "class ToDeviceLoader:\n",
        "    def __init__(self,data,device):\n",
        "        self.data = data\n",
        "        self.device = device\n",
        "\n",
        "    def __iter__(self):\n",
        "        for batch in self.data:\n",
        "            yield to_device(batch,self.device)\n",
        "\n",
        "    def __len__(self):\n",
        "        return len(self.data)\n"
      ]
    },
    {
      "cell_type": "code",
      "execution_count": 11,
      "metadata": {
        "id": "lOPFtQvhCPdR",
        "colab": {
          "base_uri": "https://localhost:8080/"
        },
        "outputId": "b1570a27-9f40-4ee7-e14d-7406f22c0f1e"
      },
      "outputs": [
        {
          "output_type": "stream",
          "name": "stdout",
          "text": [
            "cuda\n"
          ]
        }
      ],
      "source": [
        "device = get_device()\n",
        "print(device)\n",
        "\n",
        "train_dl = ToDeviceLoader(train_dl, device)\n",
        "test_dl = ToDeviceLoader(test_dl, device)"
      ]
    },
    {
      "cell_type": "code",
      "execution_count": 12,
      "metadata": {
        "id": "jTiyhIS6CPdS"
      },
      "outputs": [],
      "source": [
        "def accuracy(predicted, actual):\n",
        "    _, predictions = torch.max(predicted, dim=1)\n",
        "    return torch.tensor(torch.sum(predictions==actual).item()/len(predictions))"
      ]
    },
    {
      "cell_type": "markdown",
      "metadata": {
        "id": "rrpIxXsbCPdS"
      },
      "source": [
        "# BaseModel"
      ]
    },
    {
      "cell_type": "code",
      "execution_count": 13,
      "metadata": {
        "id": "xIb2m9fUCPdS"
      },
      "outputs": [],
      "source": [
        "class BaseModel(nn.Module):\n",
        "    def training_step(self,batch):\n",
        "        images, labels = batch\n",
        "        out = self(images)\n",
        "        loss = F.cross_entropy(out,labels)\n",
        "        return loss\n",
        "\n",
        "    def validation_step(self,batch):\n",
        "        images, labels = batch\n",
        "        out = self(images)\n",
        "        loss = F.cross_entropy(out,labels)\n",
        "        acc = accuracy(out,labels)\n",
        "        return {\"val_loss\":loss.detach(),\"val_acc\":acc}\n",
        "\n",
        "    def validation_epoch_end(self,outputs):\n",
        "        batch_losses = [loss[\"val_loss\"] for loss in outputs]\n",
        "        loss = torch.stack(batch_losses).mean()\n",
        "        batch_accuracy = [accuracy[\"val_acc\"] for accuracy in outputs]\n",
        "        acc = torch.stack(batch_accuracy).mean()\n",
        "        return {\"val_loss\":loss.item(),\"val_acc\":acc.item()}\n",
        "\n",
        "    def epoch_end(self, epoch, result):\n",
        "        print(\"Epoch [{}], last_lr: {:.5f}, train_loss: {:.4f}, val_loss: {:.4f}, val_acc: {:.4f}\".format(\n",
        "            epoch, result['lrs'][-1], result['train_loss'], result['val_loss'], result['val_acc']))"
      ]
    },
    {
      "cell_type": "markdown",
      "metadata": {
        "id": "I4XcJn8jCPdT"
      },
      "source": [
        "# ResNet Implementation\n",
        "\n",
        "BaseModel allows us to check and record the results of our model every time we train and pretty much just helps us keep track of our progress. This is what our actual model will inherit. <br />\n",
        "\n",
        "I implemented ResNet with changing a little bit that worked better than the one I got and used as base.<br />\n",
        "\n",
        "#### An example figure of ResNet approach to understand easily what we will see below as code:\n",
        "\n",
        "![image.png](attachment:5e638e86-7b48-499f-847d-741d69568111.png)\n",
        "<br/><br/><br/><br/>\n",
        "____\n",
        "\n"
      ]
    },
    {
      "cell_type": "code",
      "execution_count": 14,
      "metadata": {
        "id": "c7ySvpVkCPdT"
      },
      "outputs": [],
      "source": [
        "def conv_shortcut(in_channel, out_channel, stride):\n",
        "    layers = [nn.Conv2d(in_channel, out_channel, kernel_size=(1,1), stride=(stride, stride)),\n",
        "             nn.BatchNorm2d(out_channel)]\n",
        "    return nn.Sequential(*layers)\n",
        "\n",
        "def block(in_channel, out_channel, k_size,stride, conv=False):\n",
        "    layers = None\n",
        "\n",
        "    first_layers = [nn.Conv2d(in_channel,out_channel[0], kernel_size=(1,1),stride=(1,1)),\n",
        "                    nn.BatchNorm2d(out_channel[0]),\n",
        "                    nn.ReLU(inplace=True)]\n",
        "    if conv:\n",
        "        first_layers[0].stride=(stride,stride)\n",
        "\n",
        "    second_layers = [nn.Conv2d(out_channel[0], out_channel[1], kernel_size=(k_size, k_size), stride=(1,1), padding=1),\n",
        "                    nn.BatchNorm2d(out_channel[1])]\n",
        "\n",
        "    layers = first_layers + second_layers\n",
        "\n",
        "    return nn.Sequential(*layers)\n",
        "\n",
        "\n",
        "class ResNet(BaseModel):\n",
        "\n",
        "    def __init__(self, in_channels, num_classes):\n",
        "        super().__init__()\n",
        "\n",
        "        self.stg1 = nn.Sequential(\n",
        "                                   nn.Conv2d(in_channels=in_channels, out_channels=64, kernel_size=(3),\n",
        "                                             stride=(1), padding=1),\n",
        "                                   nn.BatchNorm2d(64),\n",
        "                                   nn.ReLU(inplace=True),\n",
        "                                   nn.MaxPool2d(kernel_size=3, stride=2))\n",
        "\n",
        "        ##stage 2\n",
        "        self.convShortcut2 = conv_shortcut(64,256,1)\n",
        "\n",
        "        self.conv2 = block(64,[64,256],3,1,conv=True)\n",
        "        self.ident2 = block(256,[64,256],3,1)\n",
        "\n",
        "\n",
        "        ##stage 3\n",
        "        self.convShortcut3 = conv_shortcut(256,512,2)\n",
        "\n",
        "        self.conv3 = block(256,[128,512],3,2,conv=True)\n",
        "        self.ident3 = block(512,[128,512],3,2)\n",
        "\n",
        "\n",
        "        ##stage 4\n",
        "        self.convShortcut4 = conv_shortcut(512,1024,2)\n",
        "\n",
        "        self.conv4 = block(512,[256,1024],3,2,conv=True)\n",
        "        self.ident4 = block(1024,[256,1024],3,2)\n",
        "\n",
        "\n",
        "        ##Classify\n",
        "        self.classifier = nn.Sequential(\n",
        "                                       nn.AvgPool2d(kernel_size=(4)),\n",
        "                                       nn.Flatten(),\n",
        "                                       nn.Linear(1024, num_classes))\n",
        "\n",
        "    def forward(self,inputs):\n",
        "        out = self.stg1(inputs)\n",
        "\n",
        "        #stage 2\n",
        "        out = F.relu(self.conv2(out) + self.convShortcut2(out))\n",
        "        out = F.relu(self.ident2(out) + out)\n",
        "        out = F.relu(self.ident2(out) + out)\n",
        "        out = F.relu(self.ident2(out) + out)\n",
        "\n",
        "        #stage3\n",
        "        out = F.relu(self.conv3(out) + (self.convShortcut3(out)))\n",
        "        out = F.relu(self.ident3(out) + out)\n",
        "        out = F.relu(self.ident3(out) + out)\n",
        "        out = F.relu(self.ident3(out) + out)\n",
        "        out = F.relu(self.ident3(out) + out)\n",
        "\n",
        "        #stage4\n",
        "        out = F.relu(self.conv4(out) + (self.convShortcut4(out)))\n",
        "        out = F.relu(self.ident4(out) + out)\n",
        "        out = F.relu(self.ident4(out) + out)\n",
        "        out = F.relu(self.ident4(out) + out)\n",
        "        out = F.relu(self.ident4(out) + out)\n",
        "        out = F.relu(self.ident4(out) + out)\n",
        "        out = F.relu(self.ident4(out) + out)\n",
        "\n",
        "        #Classify\n",
        "        out = self.classifier(out)#100x1024\n",
        "\n",
        "        return out\n"
      ]
    },
    {
      "cell_type": "code",
      "execution_count": 15,
      "metadata": {
        "id": "eNS8M0GSCPdT"
      },
      "outputs": [],
      "source": [
        "model = ResNet(3,100)"
      ]
    },
    {
      "cell_type": "code",
      "execution_count": 16,
      "metadata": {
        "id": "mztgLtfgCPdT"
      },
      "outputs": [],
      "source": [
        "model = to_device(model, device)"
      ]
    },
    {
      "cell_type": "markdown",
      "metadata": {
        "id": "uM5JYMJPCPdU"
      },
      "source": [
        "# Evaluation & Fit Function for Training"
      ]
    },
    {
      "cell_type": "code",
      "execution_count": 17,
      "metadata": {
        "id": "rux5nSYbCPdU"
      },
      "outputs": [],
      "source": [
        "@torch.no_grad()\n",
        "def evaluate(model,test_dl):\n",
        "    model.eval()\n",
        "    outputs = [model.validation_step(batch) for batch in test_dl]\n",
        "    return model.validation_epoch_end(outputs)"
      ]
    },
    {
      "cell_type": "code",
      "execution_count": 18,
      "metadata": {
        "id": "bjIUsLojCPdU"
      },
      "outputs": [],
      "source": [
        "def get_lr(optimizer):\n",
        "    for param_group in optimizer.param_groups:\n",
        "        return param_group['lr']\n",
        "\n",
        "def fit (epochs, train_dl, test_dl, model, optimizer, max_lr, weight_decay, scheduler, grad_clip=None):\n",
        "    torch.cuda.empty_cache()\n",
        "\n",
        "    history = []\n",
        "\n",
        "    optimizer = optimizer(model.parameters(), max_lr, weight_decay = weight_decay)\n",
        "\n",
        "    scheduler = scheduler(optimizer, max_lr, epochs=epochs, steps_per_epoch=len(train_dl))\n",
        "\n",
        "    for epoch in range(epochs):\n",
        "        model.train()\n",
        "\n",
        "        train_loss = []\n",
        "\n",
        "        lrs = []\n",
        "\n",
        "        for batch in train_dl:\n",
        "            loss = model.training_step(batch)\n",
        "\n",
        "            train_loss.append(loss)\n",
        "\n",
        "            loss.backward()\n",
        "\n",
        "            if grad_clip:\n",
        "                nn.utils.clip_grad_value_(model.parameters(), grad_clip)\n",
        "\n",
        "            optimizer.step()\n",
        "            optimizer.zero_grad()\n",
        "\n",
        "            scheduler.step()\n",
        "            lrs.append(get_lr(optimizer))\n",
        "        result = evaluate(model, test_dl)\n",
        "        result[\"train_loss\"] = torch.stack(train_loss).mean().item()\n",
        "        result[\"lrs\"] = lrs\n",
        "\n",
        "        model.epoch_end(epoch,result)\n",
        "        history.append(result)\n",
        "\n",
        "    return history\n"
      ]
    },
    {
      "cell_type": "markdown",
      "metadata": {
        "id": "WzFTzLnyCPdU"
      },
      "source": [
        "# Hyperparameters\n",
        "\n",
        "- **max_lr**: is the maximum learning rate that we set for learning rate scheduler. For the learning rate scheduler we used OneCycleLR, which sets the learning rate to a low learning rate, gradually increases it to the max learning rate then goes back to a low learning rate. <br/>\n",
        "- **grad_clip**: prevents the gradients to become too large. <br/>\n",
        "- **weight_decay**: essentially tries to make the model simple and helps the model generalise better.\n"
      ]
    },
    {
      "cell_type": "code",
      "execution_count": 19,
      "metadata": {
        "id": "OcG-sz7TCPdU"
      },
      "outputs": [],
      "source": [
        "epochs = 100\n",
        "optimizer = torch.optim.Adam\n",
        "max_lr = 1e-3\n",
        "grad_clip = 0.1\n",
        "weight_decay = 1e-5\n",
        "scheduler = torch.optim.lr_scheduler.OneCycleLR"
      ]
    },
    {
      "cell_type": "markdown",
      "metadata": {
        "id": "kS_E67CjCPdU"
      },
      "source": [
        "# Training"
      ]
    },
    {
      "cell_type": "code",
      "execution_count": 20,
      "metadata": {
        "id": "W2tRS9ZwCPdV",
        "colab": {
          "base_uri": "https://localhost:8080/",
          "height": 547
        },
        "outputId": "554c5435-dddf-443c-a66a-a417e93c6801"
      },
      "outputs": [
        {
          "output_type": "stream",
          "name": "stdout",
          "text": [
            "Epoch [0], last_lr: 0.00004, train_loss: 3.8852, val_loss: 4.2806, val_acc: 0.0690\n",
            "Epoch [1], last_lr: 0.00005, train_loss: 3.2174, val_loss: 4.0307, val_acc: 0.1035\n",
            "Epoch [2], last_lr: 0.00006, train_loss: 2.8994, val_loss: 3.5487, val_acc: 0.1578\n",
            "Epoch [3], last_lr: 0.00008, train_loss: 2.6525, val_loss: 3.4976, val_acc: 0.1846\n",
            "Epoch [4], last_lr: 0.00010, train_loss: 2.4672, val_loss: 2.9323, val_acc: 0.2583\n",
            "Epoch [5], last_lr: 0.00013, train_loss: 2.3049, val_loss: 2.8194, val_acc: 0.2910\n",
            "Epoch [6], last_lr: 0.00016, train_loss: 2.1696, val_loss: 2.7683, val_acc: 0.2876\n",
            "Epoch [7], last_lr: 0.00020, train_loss: 2.0576, val_loss: 2.6109, val_acc: 0.3155\n",
            "Epoch [8], last_lr: 0.00024, train_loss: 1.9776, val_loss: 2.5343, val_acc: 0.3513\n"
          ]
        },
        {
          "output_type": "error",
          "ename": "KeyboardInterrupt",
          "evalue": "",
          "traceback": [
            "\u001b[0;31m---------------------------------------------------------------------------\u001b[0m",
            "\u001b[0;31mKeyboardInterrupt\u001b[0m                         Traceback (most recent call last)",
            "\u001b[0;32m<timed exec>\u001b[0m in \u001b[0;36m<module>\u001b[0;34m\u001b[0m\n",
            "\u001b[0;32m<ipython-input-18-289d51c6f2ad>\u001b[0m in \u001b[0;36mfit\u001b[0;34m(epochs, train_dl, test_dl, model, optimizer, max_lr, weight_decay, scheduler, grad_clip)\u001b[0m\n\u001b[1;32m     24\u001b[0m             \u001b[0mtrain_loss\u001b[0m\u001b[0;34m.\u001b[0m\u001b[0mappend\u001b[0m\u001b[0;34m(\u001b[0m\u001b[0mloss\u001b[0m\u001b[0;34m)\u001b[0m\u001b[0;34m\u001b[0m\u001b[0;34m\u001b[0m\u001b[0m\n\u001b[1;32m     25\u001b[0m \u001b[0;34m\u001b[0m\u001b[0m\n\u001b[0;32m---> 26\u001b[0;31m             \u001b[0mloss\u001b[0m\u001b[0;34m.\u001b[0m\u001b[0mbackward\u001b[0m\u001b[0;34m(\u001b[0m\u001b[0;34m)\u001b[0m\u001b[0;34m\u001b[0m\u001b[0;34m\u001b[0m\u001b[0m\n\u001b[0m\u001b[1;32m     27\u001b[0m \u001b[0;34m\u001b[0m\u001b[0m\n\u001b[1;32m     28\u001b[0m             \u001b[0;32mif\u001b[0m \u001b[0mgrad_clip\u001b[0m\u001b[0;34m:\u001b[0m\u001b[0;34m\u001b[0m\u001b[0;34m\u001b[0m\u001b[0m\n",
            "\u001b[0;32m/usr/local/lib/python3.10/dist-packages/torch/_tensor.py\u001b[0m in \u001b[0;36mbackward\u001b[0;34m(self, gradient, retain_graph, create_graph, inputs)\u001b[0m\n\u001b[1;32m    579\u001b[0m                 \u001b[0minputs\u001b[0m\u001b[0;34m=\u001b[0m\u001b[0minputs\u001b[0m\u001b[0;34m,\u001b[0m\u001b[0;34m\u001b[0m\u001b[0;34m\u001b[0m\u001b[0m\n\u001b[1;32m    580\u001b[0m             )\n\u001b[0;32m--> 581\u001b[0;31m         torch.autograd.backward(\n\u001b[0m\u001b[1;32m    582\u001b[0m             \u001b[0mself\u001b[0m\u001b[0;34m,\u001b[0m \u001b[0mgradient\u001b[0m\u001b[0;34m,\u001b[0m \u001b[0mretain_graph\u001b[0m\u001b[0;34m,\u001b[0m \u001b[0mcreate_graph\u001b[0m\u001b[0;34m,\u001b[0m \u001b[0minputs\u001b[0m\u001b[0;34m=\u001b[0m\u001b[0minputs\u001b[0m\u001b[0;34m\u001b[0m\u001b[0;34m\u001b[0m\u001b[0m\n\u001b[1;32m    583\u001b[0m         )\n",
            "\u001b[0;32m/usr/local/lib/python3.10/dist-packages/torch/autograd/__init__.py\u001b[0m in \u001b[0;36mbackward\u001b[0;34m(tensors, grad_tensors, retain_graph, create_graph, grad_variables, inputs)\u001b[0m\n\u001b[1;32m    345\u001b[0m     \u001b[0;31m# some Python versions print out the first line of a multi-line function\u001b[0m\u001b[0;34m\u001b[0m\u001b[0;34m\u001b[0m\u001b[0m\n\u001b[1;32m    346\u001b[0m     \u001b[0;31m# calls in the traceback and some print out the last line\u001b[0m\u001b[0;34m\u001b[0m\u001b[0;34m\u001b[0m\u001b[0m\n\u001b[0;32m--> 347\u001b[0;31m     _engine_run_backward(\n\u001b[0m\u001b[1;32m    348\u001b[0m         \u001b[0mtensors\u001b[0m\u001b[0;34m,\u001b[0m\u001b[0;34m\u001b[0m\u001b[0;34m\u001b[0m\u001b[0m\n\u001b[1;32m    349\u001b[0m         \u001b[0mgrad_tensors_\u001b[0m\u001b[0;34m,\u001b[0m\u001b[0;34m\u001b[0m\u001b[0;34m\u001b[0m\u001b[0m\n",
            "\u001b[0;32m/usr/local/lib/python3.10/dist-packages/torch/autograd/graph.py\u001b[0m in \u001b[0;36m_engine_run_backward\u001b[0;34m(t_outputs, *args, **kwargs)\u001b[0m\n\u001b[1;32m    823\u001b[0m         \u001b[0munregister_hooks\u001b[0m \u001b[0;34m=\u001b[0m \u001b[0m_register_logging_hooks_on_whole_graph\u001b[0m\u001b[0;34m(\u001b[0m\u001b[0mt_outputs\u001b[0m\u001b[0;34m)\u001b[0m\u001b[0;34m\u001b[0m\u001b[0;34m\u001b[0m\u001b[0m\n\u001b[1;32m    824\u001b[0m     \u001b[0;32mtry\u001b[0m\u001b[0;34m:\u001b[0m\u001b[0;34m\u001b[0m\u001b[0;34m\u001b[0m\u001b[0m\n\u001b[0;32m--> 825\u001b[0;31m         return Variable._execution_engine.run_backward(  # Calls into the C++ engine to run the backward pass\n\u001b[0m\u001b[1;32m    826\u001b[0m             \u001b[0mt_outputs\u001b[0m\u001b[0;34m,\u001b[0m \u001b[0;34m*\u001b[0m\u001b[0margs\u001b[0m\u001b[0;34m,\u001b[0m \u001b[0;34m**\u001b[0m\u001b[0mkwargs\u001b[0m\u001b[0;34m\u001b[0m\u001b[0;34m\u001b[0m\u001b[0m\n\u001b[1;32m    827\u001b[0m         )  # Calls into the C++ engine to run the backward pass\n",
            "\u001b[0;31mKeyboardInterrupt\u001b[0m: "
          ]
        }
      ],
      "source": [
        "%%time\n",
        "history = fit(epochs=epochs, train_dl=train_dl, test_dl=test_dl, model=model,\n",
        "              optimizer=optimizer, max_lr=max_lr, grad_clip=grad_clip,\n",
        "              weight_decay=weight_decay, scheduler=torch.optim.lr_scheduler.OneCycleLR)"
      ]
    },
    {
      "cell_type": "markdown",
      "metadata": {
        "id": "xXrQiypzCPdV"
      },
      "source": [
        "# Plotting"
      ]
    },
    {
      "cell_type": "code",
      "execution_count": null,
      "metadata": {
        "id": "7wcmlPLkCPdV"
      },
      "outputs": [],
      "source": [
        "def plot_acc(history):\n",
        "    plt.plot([x[\"val_acc\"] for x in history],\"-x\")\n",
        "    plt.xlabel(\"Epoch\")\n",
        "    plt.ylabel(\"Accuracy\")\n",
        "\n",
        "def plot_loss(history):\n",
        "    plt.plot([x.get(\"train_loss\") for x in history], \"-bx\")\n",
        "    plt.plot([x[\"val_loss\"] for x in history],\"-rx\")\n",
        "    plt.xlabel(\"Epoch\")\n",
        "    plt.ylabel(\"Loss\")\n",
        "    plt.legend([\"train loss\",\"val loss\"])\n",
        "\n",
        "def plot_lrs(history):\n",
        "    plt.plot(np.concatenate([x.get(\"lrs\",[]) for x in history]))\n",
        "    plt.xlabel(\"Batch number\")\n",
        "    plt.ylabel(\"Learning rate\")"
      ]
    },
    {
      "cell_type": "code",
      "execution_count": null,
      "metadata": {
        "id": "pWWBf24cCPdV"
      },
      "outputs": [],
      "source": [
        "plot_loss(history)"
      ]
    },
    {
      "cell_type": "code",
      "execution_count": null,
      "metadata": {
        "id": "zc1V-6pOCPdW"
      },
      "outputs": [],
      "source": [
        "plot_acc(history)"
      ]
    },
    {
      "cell_type": "code",
      "execution_count": null,
      "metadata": {
        "id": "0x9mOdKvCPdW"
      },
      "outputs": [],
      "source": [
        "plot_lrs(history)"
      ]
    },
    {
      "cell_type": "markdown",
      "metadata": {
        "id": "5cvtxPyHCPdW"
      },
      "source": [
        "# Make predictions and see the image with its result\n"
      ]
    },
    {
      "cell_type": "code",
      "execution_count": null,
      "metadata": {
        "id": "7mZMz9xhCPdX"
      },
      "outputs": [],
      "source": [
        "def predict_image(img, model):\n",
        "    xb = to_device(img.unsqueeze(0), device)\n",
        "    yb = model(xb)\n",
        "    _, preds  = torch.max(yb, dim=1)\n",
        "    return test_data.classes[preds[0].item()]"
      ]
    },
    {
      "cell_type": "code",
      "execution_count": null,
      "metadata": {
        "id": "Xqg5FiIhCPdY"
      },
      "outputs": [],
      "source": [
        "img, label = test_data[0]\n",
        "plt.imshow(img.permute(1, 2, 0))\n",
        "print('Label:', test_data.classes[label], ', Predicted:', predict_image(img, model))"
      ]
    },
    {
      "cell_type": "code",
      "execution_count": null,
      "metadata": {
        "id": "KpGvx6S-CPdY"
      },
      "outputs": [],
      "source": [
        "img, label = test_data[1002]\n",
        "plt.imshow(img.permute(1, 2, 0))\n",
        "print('Label:', test_data.classes[label], ', Predicted:', predict_image(img, model))"
      ]
    },
    {
      "cell_type": "markdown",
      "metadata": {
        "id": "DgE5Et2FCPdY"
      },
      "source": [
        "# Save"
      ]
    },
    {
      "cell_type": "code",
      "execution_count": null,
      "metadata": {
        "id": "lp9hduDKCPdY"
      },
      "outputs": [],
      "source": [
        "torch.save(model.state_dict(), 'cifar100-resnet-project.pth')"
      ]
    }
  ],
  "metadata": {
    "colab": {
      "provenance": [],
      "gpuType": "T4",
      "include_colab_link": true
    },
    "kernelspec": {
      "display_name": "Python 3",
      "name": "python3"
    },
    "language_info": {
      "codemirror_mode": {
        "name": "ipython",
        "version": 3
      },
      "file_extension": ".py",
      "mimetype": "text/x-python",
      "name": "python",
      "nbconvert_exporter": "python",
      "pygments_lexer": "ipython3",
      "version": "3.7.12"
    },
    "accelerator": "GPU"
  },
  "nbformat": 4,
  "nbformat_minor": 0
}